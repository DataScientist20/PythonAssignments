{
 "cells": [
  {
   "cell_type": "markdown",
   "metadata": {},
   "source": [
    "# Practical Questions\n",
    "Q1.Write a code to create a string with your name and print it\n",
    "Q2.Write a code to find the length of the string \"Hello World\"\n",
    "Q3.Write a code to slice the first 3 characters from the string \"Python Programming\"\n",
    "Q4.Write a code to convert the string \"hello\" to uppercase\n",
    "Q5.Write a code to replace the word \"apple\" with \"orange\" in the string \"I like apple\"\n",
    "Q6.Write a code to create a list with numbers 1 to 5 and print it\n",
    "Q7.Write a code to append the number 10 to the list [1, 2, 3, 4]\n",
    "Q8.Write a code to remove the number 3 from the list [1, 2, 3, 4, 5]\n",
    "Q9.Write a code to access the second element in the list ['a', 'b', 'c', 'd']\n",
    "Q10.Write a code to reverse the list [10, 20, 30, 40, 50]."
   ]
  },
  {
   "cell_type": "code",
   "execution_count": null,
   "metadata": {},
   "outputs": [
    {
     "name": "stdout",
     "output_type": "stream",
     "text": [
      "My name is :- Nilam Vadher\n"
     ]
    }
   ],
   "source": [
    "#Ans1.\n",
    "MyName = input(\"Please enter your name: \")\n",
    "print(\"My name is :- \" + MyName)"
   ]
  },
  {
   "cell_type": "code",
   "execution_count": null,
   "metadata": {},
   "outputs": [
    {
     "name": "stdout",
     "output_type": "stream",
     "text": [
      "11\n"
     ]
    }
   ],
   "source": [
    "#Ans2.\n",
    "str1 = \"Hello World\"\n",
    "print(len(str1))"
   ]
  },
  {
   "cell_type": "code",
   "execution_count": null,
   "metadata": {},
   "outputs": [
    {
     "name": "stdout",
     "output_type": "stream",
     "text": [
      "Pyt\n",
      "PYTHON PROGRAMMING\n",
      "HELLO\n"
     ]
    }
   ],
   "source": [
    "#Ans3/4.\n",
    "str1=\"Python Programming\" \n",
    "print(str1[:3])\n",
    "print(str1.upper())\n",
    "str2 = \"hello\"\n",
    "print(str2.upper())"
   ]
  },
  {
   "cell_type": "code",
   "execution_count": null,
   "metadata": {},
   "outputs": [
    {
     "name": "stdout",
     "output_type": "stream",
     "text": [
      "I like Orange\n"
     ]
    }
   ],
   "source": [
    "#Ans5.\n",
    "str3 = 'I like Apple'\n",
    "str4 = str3.replace('Apple', 'Orange')\n",
    "print(str4)"
   ]
  },
  {
   "cell_type": "markdown",
   "metadata": {},
   "source": []
  },
  {
   "cell_type": "code",
   "execution_count": 21,
   "metadata": {},
   "outputs": [
    {
     "name": "stdout",
     "output_type": "stream",
     "text": [
      "<class 'list'>\n",
      "1\n",
      "2\n",
      "3\n",
      "4\n",
      "5\n"
     ]
    }
   ],
   "source": [
    "#Ans 6\n",
    "myList = [1,2,3,4,5]\n",
    "print(type(myList))\n",
    "for num in myList:\n",
    " print(num)"
   ]
  },
  {
   "cell_type": "code",
   "execution_count": 24,
   "metadata": {},
   "outputs": [
    {
     "name": "stdout",
     "output_type": "stream",
     "text": [
      "[1, 2, 3, 4, 5, 10]\n",
      "[1, 2, 3, 4, 5, 10, 10]\n",
      "[1, 2, 4, 5, 10, 10]\n"
     ]
    }
   ],
   "source": [
    "print(myList)\n",
    "myList.append(10)\n",
    "print(myList)\n"
   ]
  },
  {
   "cell_type": "code",
   "execution_count": 26,
   "metadata": {},
   "outputs": [
    {
     "name": "stdout",
     "output_type": "stream",
     "text": [
      "[1, 2, 4, 5, 10]\n"
     ]
    }
   ],
   "source": [
    "myList.remove(10)\n",
    "myList.remove(3)\n",
    "print(myList)"
   ]
  },
  {
   "cell_type": "code",
   "execution_count": 27,
   "metadata": {},
   "outputs": [
    {
     "name": "stdout",
     "output_type": "stream",
     "text": [
      "b\n"
     ]
    }
   ],
   "source": [
    "list2 = ['a','b','c','d']\n",
    "print(list2[1])"
   ]
  },
  {
   "cell_type": "code",
   "execution_count": 35,
   "metadata": {},
   "outputs": [
    {
     "name": "stdout",
     "output_type": "stream",
     "text": [
      "[50, 40, 30, 20, 10]\n"
     ]
    }
   ],
   "source": [
    "numList = [10,20,30,40,50]\n",
    "print(numList[::-1])"
   ]
  },
  {
   "cell_type": "markdown",
   "metadata": {},
   "source": [
    "### Data Types and Structures Questions\n",
    "---\n",
    "\n",
    "1. What are data structures, and why are they important?\n",
    "Structures that organize data for efficient access and modification. Crucial for performance and clarity.\n",
    "\n",
    "2. Mutable vs Immutable Types:\n",
    "- Mutable: Can change (e.g., `list`, `dict`, `set`)  \n",
    "- Immutable:Cannot change (e.g., `str`, `tuple`, `int`)\n",
    "\n",
    "3. List vs Tuple: \n",
    "- Lists: Mutable, dynamic, more memory  \n",
    "- Tuples: Immutable, faster, safer for fixed data\n",
    "\n",
    "4. How do dictionaries store data?\n",
    "As key-value pairs using a hash table for quick access.\n",
    "\n",
    "5. Why use a set instead of a list?  \n",
    "To store unique items and perform fast membership checks or set operations.\n",
    "\n",
    "6. String vs List: \n",
    "- Strings: Immutable sequences of characters  \n",
    "- Lists: Mutable sequences, can hold any type\n",
    "\n",
    "7. How do tuples ensure data integrity?\n",
    "Their immutability prevents accidental modification.\n",
    "\n",
    "8. What is a hash table (relation to dict)?  \n",
    "A data structure mapping keys to values using hashes. Dicts use them internally.\n",
    "\n",
    "9. Can lists hold different data types? \n",
    "Yes, e.g., `[1, \"hi\", 3.14]`\n",
    "\n",
    "10. Why are strings immutable?  \n",
    "Efficiency, security, and hashability (e.g., as dictionary keys).\n",
    "\n",
    "11. Advantages of dicts over lists:\n",
    "Fast key-based lookup (`O(1)`), better for labeled data.\n",
    "\n",
    "12. When use a tuple over a list?  \n",
    "When data must not change, e.g., coordinates.\n",
    "\n",
    "13. How sets handle duplicates: \n",
    "They ignore them—every element is unique.\n",
    "\n",
    "14. `in` keyword in lists vs dicts: \n",
    "- Lists: checks values  \n",
    "- Dicts: checks keys\n",
    "\n",
    "15. Can you modify a tuple? \n",
    "No. Tuples are immutable. Any change causes an error.\n",
    "\n",
    "16. What is a nested dictionary?  \n",
    "A dict inside another dict.  \n",
    "Example:  \n",
    "```python\n",
    "{\"user\": {\"name\": \"Eve\", \"age\": 30}}\n",
    "```\n",
    "\n",
    "17. Dict element access time complexity: \n",
    "Average case: **O(1)**\n",
    "\n",
    "18. When prefer lists over dicts?  \n",
    "When order or sequential access matters.\n",
    "\n",
    "19. Why are dicts considered unordered?  \n",
    "Conceptually, key order doesn’t matter (though from Python 3.7+ they keep insertion order).\n",
    "\n",
    "20. List vs Dict (data retrieval): \n",
    "- List: Access by index  \n",
    "- Dict: Access by key (faster and more descriptive)"
   ]
  }
 ],
 "metadata": {
  "kernelspec": {
   "display_name": "Python 3",
   "language": "python",
   "name": "python3"
  },
  "language_info": {
   "codemirror_mode": {
    "name": "ipython",
    "version": 3
   },
   "file_extension": ".py",
   "mimetype": "text/x-python",
   "name": "python",
   "nbconvert_exporter": "python",
   "pygments_lexer": "ipython3",
   "version": "3.11.3"
  }
 },
 "nbformat": 4,
 "nbformat_minor": 2
}
